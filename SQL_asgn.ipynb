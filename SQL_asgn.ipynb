{
 "cells": [
  {
   "cell_type": "code",
   "execution_count": null,
   "id": "4987c80d-1912-4d5d-a7d1-1972c8e443a2",
   "metadata": {},
   "outputs": [],
   "source": [
    "Q1. What is a database? Differentiate between SQL and NoSQL databases."
   ]
  },
  {
   "cell_type": "code",
   "execution_count": null,
   "id": "6570aefb-94ae-4e8a-927c-f0b15f87e6cd",
   "metadata": {},
   "outputs": [],
   "source": [
    "A database is a structured collection of data that is organized and stored in a way that enables efficient retrieval,\n",
    "management, and manipulation of the data. Databases are used to store and manage vast amounts of information for various\n",
    "purposes, such as business operations, analytics, and application data storage.\n",
    "\n",
    "SQL Databases (Relational Databases):\n",
    "SQL (Structured Query Language) databases, also known as relational databases, are based on the relational model, which organizes\n",
    "data into tables with rows and columns. These databases use SQL to define, manipulate, and query data.\n",
    "\n",
    "NoSQL Databases (Non-Relational Databases):\n",
    "NoSQL databases, as the name suggests, depart from the structured, tabular nature of SQL databases. They are designed to handle\n",
    "unstructured or semi-structured data and offer more flexibility in terms of schema design."
   ]
  },
  {
   "cell_type": "code",
   "execution_count": null,
   "id": "ad005375-aaaa-4eec-a056-7d1545515e5c",
   "metadata": {},
   "outputs": [],
   "source": [
    "Q2. What is DDL? Explain why CREATE, DROP, ALTER, and TRUNCATE are used with an example."
   ]
  },
  {
   "cell_type": "code",
   "execution_count": null,
   "id": "153d87d1-3b55-472a-9d36-706a4f2be83a",
   "metadata": {},
   "outputs": [],
   "source": [
    "DDL (Data Definition Language):\n",
    "DDL stands for Data Definition Language. It's a subset of SQL (Structured Query Language) used for defining and managing the\n",
    "structure of the database objects, such as tables, indexes, constraints, and views. DDL statements are used to create, modify,\n",
    "and delete these database objects.\n",
    "\n"
   ]
  },
  {
   "cell_type": "code",
   "execution_count": 1,
   "id": "7549d9b1-86f5-4409-af3d-9379716b4191",
   "metadata": {},
   "outputs": [
    {
     "ename": "SyntaxError",
     "evalue": "invalid syntax (2127562353.py, line 4)",
     "output_type": "error",
     "traceback": [
      "\u001b[0;36m  Cell \u001b[0;32mIn[1], line 4\u001b[0;36m\u001b[0m\n\u001b[0;31m    CREATE TABLE Students (\u001b[0m\n\u001b[0m           ^\u001b[0m\n\u001b[0;31mSyntaxError\u001b[0m\u001b[0;31m:\u001b[0m invalid syntax\n"
     ]
    }
   ],
   "source": [
    "CREATE:\n",
    "The CREATE statement is used to create new database objects, such as tables, indexes, views, and more.\n",
    "\n",
    "CREATE TABLE Students (\n",
    "    StudentID INT PRIMARY KEY,\n",
    "    FirstName VARCHAR(50),\n",
    "    LastName VARCHAR(50),\n",
    "    Age INT\n",
    ");\n",
    "\n",
    "DROP:\n",
    "The DROP statement is used to delete existing database objects, such as tables, indexes, or views. This operation is irreversible.\n",
    "DROP TABLE Students;\n",
    "\n",
    "ALTER:\n",
    "The ALTER statement is used to modify the structure of an existing database object. It can be used to add, modify, or \n",
    "delete columns, constraints, and other properties.\n",
    "ALTER TABLE Students\n",
    "ADD Email VARCHAR(100);\n"
   ]
  },
  {
   "cell_type": "code",
   "execution_count": null,
   "id": "1206dc8a-715d-4a7b-84cf-f3aff61bee5f",
   "metadata": {},
   "outputs": [],
   "source": [
    "Q3. What is DML? Explain INSERT, UPDATE, and DELETE with an example."
   ]
  },
  {
   "cell_type": "code",
   "execution_count": null,
   "id": "aa6f72b4-9648-40d3-a13f-55542d84d1ef",
   "metadata": {},
   "outputs": [],
   "source": [
    "DML stands for Data Manipulation Language. It's a subset of SQL (Structured Query Language) used for interacting with and \n",
    "manipulating the data stored in the database. DML statements are used to insert, update, and delete data within tables.\n",
    "\n",
    "The INSERT statement is used to insert new rows of data into a table.\n",
    "eg.INSERT INTO Students (StudentID, FirstName, LastName, Age)\n",
    "VALUES (1, 'John', 'Doe', 20);\n",
    "\n",
    "The UPDATE statement is used to modify existing data in a table.\n",
    "eg.UPDATE Students\n",
    "SET Age = 21\n",
    "WHERE StudentID = 1;\n",
    "\n",
    "The DELETE statement is used to remove rows of data from a table.\n",
    "eg.DELETE FROM Students\n",
    "WHERE StudentID = 1;\n"
   ]
  },
  {
   "cell_type": "code",
   "execution_count": null,
   "id": "7cd884c9-f9c9-40be-aaea-d6fc038f6741",
   "metadata": {},
   "outputs": [],
   "source": [
    "Q4. What is DQL? Explain SELECT with an example."
   ]
  },
  {
   "cell_type": "code",
   "execution_count": null,
   "id": "983829cc-57ea-4c7b-afbe-65ddaf2058ae",
   "metadata": {},
   "outputs": [],
   "source": [
    "DQL stands for Data Query Language. It's a subset of SQL (Structured Query Language) used for retrieving and querying data\n",
    "from a database. DQL statements are primarily focused on retrieving data that matches specific criteria and formatting the result set.\n",
    "\n",
    "The SELECT statement is used to retrieve data from one or more tables. It allows you to specify which columns you want \n",
    "to retrieve, apply conditions to filter the rows, and even perform calculations or manipulations on the data.\n",
    "\n",
    "Example - Retrieving Data from a Table:\n",
    "Suppose you have a table named \"Employees\" with columns \"EmployeeID,\" \"FirstName,\" \"LastName,\" \"Salary,\" and \"Department\".\n",
    "SELECT EmployeeID, FirstName, LastName, Salary\n",
    "FROM Employees\n",
    "WHERE Department = 'IT';\n"
   ]
  },
  {
   "cell_type": "code",
   "execution_count": null,
   "id": "ebd96ccf-86e9-44d0-9848-2dd643f033d7",
   "metadata": {},
   "outputs": [],
   "source": [
    "Q5. Explain Primary Key and Foreign Key."
   ]
  },
  {
   "cell_type": "code",
   "execution_count": null,
   "id": "126b5a98-de99-4a75-ba99-bb01ab2f2523",
   "metadata": {},
   "outputs": [],
   "source": [
    "A primary key is a unique identifier for a record within a database table. It ensures that each row in the table is uniquely \n",
    "identifiable and can be used to access, update,or delete specific records. Primary keys play a crucial role in maintaining \n",
    "data integrity and establishing relationships between tables.\n",
    "eg.\n",
    "CREATE TABLE Students (\n",
    "    StudentID INT PRIMARY KEY,\n",
    "    FirstName VARCHAR(50),\n",
    "    LastName VARCHAR(50),\n",
    "    Age INT\n",
    ");\n",
    "\n",
    "\n",
    "A foreign key is a field in a database table that establishes a link between two tables by referencing the primary key of another table.\n",
    "It defines a relationship between the tables, allowing data to be associated across multiple tables.\n",
    "eg.\n",
    "CREATE TABLE Courses (\n",
    "    CourseID INT PRIMARY KEY,\n",
    "    CourseName VARCHAR(100),\n",
    "    InstructorID INT,\n",
    "    FOREIGN KEY (InstructorID) REFERENCES Instructors(InstructorID)\n",
    ");\n"
   ]
  },
  {
   "cell_type": "code",
   "execution_count": null,
   "id": "f04de93d-1593-4419-807e-eb156b9d235f",
   "metadata": {},
   "outputs": [],
   "source": [
    "Q6. Write a python code to connect MySQL to python. Explain the cursor() and execute() method."
   ]
  },
  {
   "cell_type": "code",
   "execution_count": 6,
   "id": "baffbe19-726c-455b-9787-ef632c6e52b1",
   "metadata": {},
   "outputs": [
    {
     "ename": "ModuleNotFoundError",
     "evalue": "No module named 'mysql'",
     "output_type": "error",
     "traceback": [
      "\u001b[0;31m---------------------------------------------------------------------------\u001b[0m",
      "\u001b[0;31mModuleNotFoundError\u001b[0m                       Traceback (most recent call last)",
      "Cell \u001b[0;32mIn[6], line 1\u001b[0m\n\u001b[0;32m----> 1\u001b[0m \u001b[38;5;28;01mimport\u001b[39;00m \u001b[38;5;21;01mmysql\u001b[39;00m\u001b[38;5;21;01m.\u001b[39;00m\u001b[38;5;21;01mconnector\u001b[39;00m\n\u001b[1;32m      3\u001b[0m db_connection\u001b[38;5;241m=\u001b[39mmysql\u001b[38;5;241m.\u001b[39mconnector\u001b[38;5;241m.\u001b[39mconnect(\n\u001b[1;32m      4\u001b[0m host\u001b[38;5;241m=\u001b[39m\u001b[38;5;124m'\u001b[39m\u001b[38;5;124mabc\u001b[39m\u001b[38;5;124m'\u001b[39m,\n\u001b[1;32m      5\u001b[0m username\u001b[38;5;241m=\u001b[39m\u001b[38;5;124m'\u001b[39m\u001b[38;5;124mpwskills\u001b[39m\u001b[38;5;124m'\u001b[39m,\n\u001b[1;32m      6\u001b[0m password\u001b[38;5;241m=\u001b[39m\u001b[38;5;124m'\u001b[39m\u001b[38;5;124mayush\u001b[39m\u001b[38;5;124m'\u001b[39m,\n\u001b[1;32m      7\u001b[0m database\u001b[38;5;241m=\u001b[39m\u001b[38;5;124m'\u001b[39m\u001b[38;5;124mstudents_table\u001b[39m\u001b[38;5;124m'\u001b[39m\n\u001b[1;32m      8\u001b[0m )\n\u001b[1;32m     10\u001b[0m cursor\u001b[38;5;241m=\u001b[39mdb_connection\u001b[38;5;241m.\u001b[39mcursor()\n",
      "\u001b[0;31mModuleNotFoundError\u001b[0m: No module named 'mysql'"
     ]
    }
   ],
   "source": [
    "\n",
    "import mysql.connector\n",
    "\n",
    "db_connection=mysql.connector.connect(\n",
    "host='abc',\n",
    "username='pwskills',\n",
    "password='ayush',\n",
    "database='students_table'\n",
    ")\n",
    "\n",
    "cursor=db_connection.cursor()\n",
    "\n",
    "query='select * from students'\n",
    "cursor.execute(query)\n",
    "\n",
    "results=cursor.fetchall()\n",
    "\n",
    "\n",
    "for row in results:\n",
    "    print(row)\n",
    "    \n",
    "    cursor.close()\n",
    "    db_connection.close()"
   ]
  },
  {
   "cell_type": "code",
   "execution_count": null,
   "id": "6fb7c12e-f33f-4860-aed0-91d338ff3191",
   "metadata": {},
   "outputs": [],
   "source": [
    "Q7. Give the order of execution of SQL clauses in an SQL query."
   ]
  },
  {
   "cell_type": "code",
   "execution_count": null,
   "id": "d0919f6e-db44-45cf-afeb-ca80a4b1fc24",
   "metadata": {},
   "outputs": [],
   "source": [
    "FROM: The FROM clause specifies the tables from which you want to retrieve data. It identifies the data sources for the query.\n",
    "\n",
    "JOIN: If your query involves joining multiple tables, the JOIN clauses define how these tables are related and how the data is combined.\n",
    "\n",
    "WHERE: The WHERE clause filters the data based on specified conditions. It allows you to include only the rows that meet the specified criteria.\n",
    "\n",
    "GROUP BY: If you're using aggregation functions like SUM, COUNT, etc., the GROUP BY clause groups the rows based on a specific column or columns.\n",
    "\n",
    "HAVING: The HAVING clause is used with the GROUP BY clause to filter groups of data based on aggregate function results.\n",
    "\n",
    "SELECT: The SELECT clause specifies the columns you want to retrieve from the result set. It defines what data will be displayed in the output.\n",
    "\n",
    "DISTINCT: If you're using the DISTINCT keyword, it's applied after the SELECT clause and before other clauses to eliminate duplicate rows.\n",
    "\n",
    "ORDER BY: The ORDER BY clause is used to sort the result set based on one or more columns. It determines the order in which rows are presented in the output.\n",
    "\n",
    "LIMIT/OFFSET: If you're using pagination or need to limit the number of rows returned, the LIMIT and OFFSET clauses come after sorting. LIMIT specifies the maximum number of rows to return, and OFFSET defines the starting row.\n",
    "\n",
    "It's ie typical flow of SQL query processing.\n",
    "\n",
    "\n",
    "\n",
    "\n",
    "\n"
   ]
  }
 ],
 "metadata": {
  "kernelspec": {
   "display_name": "Python 3 (ipykernel)",
   "language": "python",
   "name": "python3"
  },
  "language_info": {
   "codemirror_mode": {
    "name": "ipython",
    "version": 3
   },
   "file_extension": ".py",
   "mimetype": "text/x-python",
   "name": "python",
   "nbconvert_exporter": "python",
   "pygments_lexer": "ipython3",
   "version": "3.10.8"
  }
 },
 "nbformat": 4,
 "nbformat_minor": 5
}
